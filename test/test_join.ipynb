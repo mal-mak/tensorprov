{
 "cells": [
  {
   "cell_type": "code",
   "execution_count": 1,
   "metadata": {},
   "outputs": [],
   "source": [
    "import pandas as pd\n",
    "import torch\n",
    "import time\n",
    "from join import create_provenance_tensor, create_provenance_tensor_hash, join , compare_methods"
   ]
  },
  {
   "cell_type": "code",
   "execution_count": 2,
   "metadata": {},
   "outputs": [
    {
     "name": "stdout",
     "output_type": "stream",
     "text": [
      "   ID   Birthdate Gender  Postcode\n",
      "0  10  1996-07-12      F   90210.0\n",
      "1  20  1994-03-08      M       NaN\n",
      "2  30          NA      F   12345.0\n",
      "3  40  1987-11-23      M   67890.0\n",
      "   ID   Name\n",
      "0  20  Alice\n",
      "1  40    Bob\n"
     ]
    }
   ],
   "source": [
    "df1 = pd.DataFrame({\n",
    "    'ID': [10, 20, 30, 40],\n",
    "    'Birthdate': ['1996-07-12', '1994-03-08', 'NA', '1987-11-23'],\n",
    "    'Gender': ['F', 'M', 'F', 'M'],\n",
    "    'Postcode': [90210, None, 12345, 67890]\n",
    "})\n",
    "\n",
    "df2 = pd.DataFrame({\n",
    "    'ID': [20, 40],\n",
    "    'Name': ['Alice', 'Bob']\n",
    "})\n",
    "print(df1)\n",
    "print(df2)"
   ]
  },
  {
   "cell_type": "code",
   "execution_count": 4,
   "metadata": {},
   "outputs": [
    {
     "name": "stdout",
     "output_type": "stream",
     "text": [
      "   ID   Birthdate Gender  Postcode   Name\n",
      "0  20  1994-03-08      M       NaN  Alice\n",
      "1  40  1987-11-23      M   67890.0    Bob\n"
     ]
    }
   ],
   "source": [
    "result=join(df1,df2,on=\"ID\",how=\"inner\")\n",
    "print(result)"
   ]
  },
  {
   "cell_type": "code",
   "execution_count": 5,
   "metadata": {},
   "outputs": [
    {
     "name": "stdout",
     "output_type": "stream",
     "text": [
      "Row-wise Method Result:\n",
      "tensor([[[0, 0],\n",
      "         [1, 0],\n",
      "         [0, 0],\n",
      "         [0, 0]],\n",
      "\n",
      "        [[0, 0],\n",
      "         [0, 0],\n",
      "         [0, 0],\n",
      "         [0, 1]]], dtype=torch.int32)\n",
      "Row-wise Method Time: 0.011642694473266602 seconds\n",
      "\n",
      "Hash-based Method Result:\n",
      "tensor([[[0, 0],\n",
      "         [1, 0],\n",
      "         [0, 0],\n",
      "         [0, 0]],\n",
      "\n",
      "        [[0, 0],\n",
      "         [0, 0],\n",
      "         [0, 0],\n",
      "         [0, 1]]], dtype=torch.int32)\n",
      "Hash-based Method Time: 0.008216619491577148 seconds\n"
     ]
    }
   ],
   "source": [
    "compare_methods(df1, df2, result, on=[\"ID\"])"
   ]
  }
 ],
 "metadata": {
  "kernelspec": {
   "display_name": "Python 3",
   "language": "python",
   "name": "python3"
  },
  "language_info": {
   "codemirror_mode": {
    "name": "ipython",
    "version": 3
   },
   "file_extension": ".py",
   "mimetype": "text/x-python",
   "name": "python",
   "nbconvert_exporter": "python",
   "pygments_lexer": "ipython3",
   "version": "3.11.0"
  }
 },
 "nbformat": 4,
 "nbformat_minor": 2
}
