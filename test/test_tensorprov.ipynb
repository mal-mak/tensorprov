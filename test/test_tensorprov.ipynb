{
 "cells": [
  {
   "cell_type": "markdown",
   "metadata": {},
   "source": [
    "# Tensorprov Class Testing"
   ]
  },
  {
   "cell_type": "code",
   "execution_count": 1,
   "metadata": {},
   "outputs": [],
   "source": [
    "import sys\n",
    "import os\n",
    "import torch\n",
    "\n",
    "sys.path.append(os.path.abspath(os.path.join(\"..\")))\n",
    "\n",
    "from tensorprov import Tensorprov\n",
    "import pandas as pd\n",
    "\n",
    "data1 = pd.DataFrame({\"col1\": [1, 2, 3, 4, 5], \"col2\": [6, 7, 8, 9, 10]})\n",
    "\n",
    "data2 = pd.DataFrame({\"col1\": [2, 3, 4], \"col2\": [15, 25, 35]})\n",
    "\n",
    "mask = \"(col1 > 1) & (col2 > 7)\"\n",
    "columns = [\"col2\"]\n",
    "\n",
    "tp = Tensorprov()"
   ]
  },
  {
   "cell_type": "markdown",
   "metadata": {},
   "source": [
    "## 1. Horizontal Reduction"
   ]
  },
  {
   "cell_type": "code",
   "execution_count": 2,
   "metadata": {},
   "outputs": [
    {
     "name": "stdout",
     "output_type": "stream",
     "text": [
      "Horizontal Reduction Result:\n",
      "   col1  col2\n",
      "2     3     8\n",
      "3     4     9\n",
      "4     5    10\n",
      "Horizontal Reduction Provenance (Index Matching):\n",
      "tensor([[0, 0, 0],\n",
      "        [0, 0, 0],\n",
      "        [1, 0, 0],\n",
      "        [0, 1, 0],\n",
      "        [0, 0, 1]], dtype=torch.int8)\n",
      "Horizontal Reduction Provenance (Hashing):\n",
      "tensor([[0, 0, 0],\n",
      "        [0, 0, 0],\n",
      "        [1, 0, 0],\n",
      "        [0, 1, 0],\n",
      "        [0, 0, 1]], dtype=torch.int8)\n"
     ]
    }
   ],
   "source": [
    "# Horizontal reduction transform\n",
    "horizontal_result = tp.horizontal_reduction_transform(data1, mask)\n",
    "print(\"Horizontal Reduction Result:\")\n",
    "print(horizontal_result)\n",
    "\n",
    "# Horizontal reduction provenance\n",
    "horizontal_prov = tp.provenance_horizontal_reduction_index_matching(\n",
    "    data1, horizontal_result, False\n",
    ")\n",
    "print(\"Horizontal Reduction Provenance (Index Matching):\")\n",
    "print(horizontal_prov)\n",
    "\n",
    "horizontal_prov_hash = tp.provenance_horizontal_reduction_hashing(\n",
    "    data1, horizontal_result, False\n",
    ")\n",
    "print(\"Horizontal Reduction Provenance (Hashing):\")\n",
    "print(horizontal_prov_hash)"
   ]
  },
  {
   "cell_type": "markdown",
   "metadata": {},
   "source": [
    "## 2. Vertical Reduction"
   ]
  },
  {
   "cell_type": "code",
   "execution_count": 3,
   "metadata": {},
   "outputs": [
    {
     "name": "stdout",
     "output_type": "stream",
     "text": [
      "Vertical Reduction Result:\n",
      "   col1\n",
      "0     1\n",
      "1     2\n",
      "2     3\n",
      "3     4\n",
      "4     5\n",
      "Vertical Reduction Provenance (Column Matching):\n",
      "tensor([1, 0], dtype=torch.int8)\n",
      "Vertical Reduction Provenance (Hashing):\n",
      "tensor([1, 0], dtype=torch.int8)\n"
     ]
    }
   ],
   "source": [
    "# Vertical reduction transform\n",
    "vertical_result = tp.vertical_reduction_transform(data1, columns)\n",
    "print(\"Vertical Reduction Result:\")\n",
    "print(vertical_result)\n",
    "\n",
    "# Vertical reduction provenance\n",
    "vertical_prov = tp.provenance_vertical_reduction_column_matching(\n",
    "    data1, vertical_result, sparse=False\n",
    ")\n",
    "print(\"Vertical Reduction Provenance (Column Matching):\")\n",
    "print(vertical_prov)\n",
    "\n",
    "vertical_prov_hash = tp.provenance_vertical_reduction_hashing(\n",
    "    data1, vertical_result, sparse=False\n",
    ")\n",
    "print(\"Vertical Reduction Provenance (Hashing):\")\n",
    "print(vertical_prov_hash)"
   ]
  },
  {
   "cell_type": "markdown",
   "metadata": {},
   "source": [
    "## 3. Join"
   ]
  },
  {
   "cell_type": "code",
   "execution_count": 4,
   "metadata": {},
   "outputs": [
    {
     "name": "stdout",
     "output_type": "stream",
     "text": [
      "Join Result:\n",
      "   col1  col2_x  col2_y\n",
      "0     2       7      15\n",
      "1     3       8      25\n",
      "2     4       9      35\n",
      "Join Provenance:\n",
      "tensor([[[0, 0, 0],\n",
      "         [1, 0, 0],\n",
      "         [0, 0, 0],\n",
      "         [0, 0, 0],\n",
      "         [0, 0, 0]],\n",
      "\n",
      "        [[0, 0, 0],\n",
      "         [0, 0, 0],\n",
      "         [0, 1, 0],\n",
      "         [0, 0, 0],\n",
      "         [0, 0, 0]],\n",
      "\n",
      "        [[0, 0, 0],\n",
      "         [0, 0, 0],\n",
      "         [0, 0, 0],\n",
      "         [0, 0, 1],\n",
      "         [0, 0, 0]]], dtype=torch.int32)\n"
     ]
    }
   ],
   "source": [
    "# Join transform\n",
    "join_result = tp.join_transform(data1, data2, join_on=\"col1\")\n",
    "print(\"Join Result:\")\n",
    "print(join_result)\n",
    "\n",
    "# Join provenance\n",
    "join_prov = tp.provenance_join(data1, data2, join_result, join_on=[\"col1\"])\n",
    "print(\"Join Provenance:\")\n",
    "print(join_prov)"
   ]
  },
  {
   "cell_type": "markdown",
   "metadata": {},
   "source": [
    "## 4. Oversampling"
   ]
  },
  {
   "cell_type": "code",
   "execution_count": 5,
   "metadata": {},
   "outputs": [
    {
     "name": "stdout",
     "output_type": "stream",
     "text": [
      "Oversampling Result:\n",
      "tensor([[1, 2, 1, 2],\n",
      "        [3, 4, 3, 4]])\n",
      "Oversampling Provenance (Sparse):\n",
      "tensor(indices=tensor([[0, 1, 0, 1],\n",
      "                       [0, 1, 2, 3]]),\n",
      "       values=tensor([1., 1., 1., 1.]),\n",
      "       size=(2, 4), nnz=4, layout=torch.sparse_coo)\n",
      "Oversampling Provenance (Dense):\n",
      "tensor([[1., 0., 1., 0.],\n",
      "        [0., 1., 0., 1.]])\n"
     ]
    }
   ],
   "source": [
    "# Oversampling transform\n",
    "data = torch.tensor([[1, 2], [3, 4]])\n",
    "oversample_result = tp.oversample_transform(data)\n",
    "print(\"Oversampling Result:\")\n",
    "print(oversample_result)\n",
    "\n",
    "# Oversampling provenance (Sparse)\n",
    "oversample_prov_sparse = tp.provenance_oversample_sparse(\n",
    "    data, oversample_result, method=\"horizontal\"\n",
    ")\n",
    "print(\"Oversampling Provenance (Sparse):\")\n",
    "print(oversample_prov_sparse)\n",
    "\n",
    "# Oversampling provenance (Dense)\n",
    "oversample_prov_dense = tp.provenance_oversample_dense(\n",
    "    data, oversample_result, method=\"horizontal\"\n",
    ")\n",
    "print(\"Oversampling Provenance (Dense):\")\n",
    "print(oversample_prov_dense)"
   ]
  },
  {
   "cell_type": "markdown",
   "metadata": {},
   "source": [
    "## 5. Union"
   ]
  },
  {
   "cell_type": "code",
   "execution_count": 6,
   "metadata": {},
   "outputs": [
    {
     "name": "stdout",
     "output_type": "stream",
     "text": [
      "Union Provenance:\n",
      "(  col1  col2\n",
      "0    1     6\n",
      "1    2     7\n",
      "2    3     8\n",
      "3    4     9\n",
      "4    5    10\n",
      "5    2    15\n",
      "6    3    25\n",
      "7    4    35, tensor([[1, 0],\n",
      "        [1, 0],\n",
      "        [1, 0],\n",
      "        [1, 0],\n",
      "        [1, 0],\n",
      "        [0, 1],\n",
      "        [0, 1],\n",
      "        [0, 1]], dtype=torch.int32))\n",
      "Union Provenance with DataFrame:\n",
      "  col1  col2 source_id\n",
      "0    1     6        D¹\n",
      "1    2     7        D¹\n",
      "2    3     8        D¹\n",
      "3    4     9        D¹\n",
      "4    5    10        D¹\n",
      "5    2    15        D²\n",
      "6    3    25        D²\n",
      "7    4    35        D²\n"
     ]
    }
   ],
   "source": [
    "# Union provenance\n",
    "union_prov = tp.provenance_union(data1, data2)\n",
    "print(\"Union Provenance:\")\n",
    "print(union_prov)\n",
    "\n",
    "# Union provenance with dataframe\n",
    "union_df_prov = tp.provenance_with_df_union(data1, data2)\n",
    "print(\"Union Provenance with DataFrame:\")\n",
    "print(union_df_prov)"
   ]
  },
  {
   "cell_type": "code",
   "execution_count": null,
   "id": "a3cc4395",
   "metadata": {},
   "outputs": [],
   "source": []
  }
 ],
 "metadata": {
  "kernelspec": {
   "display_name": "tensorprov",
   "language": "python",
   "name": "python3"
  },
  "language_info": {
   "codemirror_mode": {
    "name": "ipython",
    "version": 3
   },
   "file_extension": ".py",
   "mimetype": "text/x-python",
   "name": "python",
   "nbconvert_exporter": "python",
   "pygments_lexer": "ipython3",
   "version": "3.12.7"
  }
 },
 "nbformat": 4,
 "nbformat_minor": 5
}
