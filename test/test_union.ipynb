{
 "cells": [
  {
   "cell_type": "code",
   "execution_count": 1,
   "metadata": {},
   "outputs": [],
   "source": [
    "import sys\n",
    "import os\n",
    "\n",
    "sys.path.append(os.path.abspath(os.path.join(\"..\")))\n",
    "\n",
    "import pandas as pd\n",
    "import torch\n",
    "import time\n",
    "from union.union import (\n",
    "    sparse_tensor_prov,\n",
    "    add_source_identifiers,\n",
    "    append_with_provenance,\n",
    ")\n",
    "import string\n",
    "import random\n",
    "import numpy as np\n",
    "\n",
    "import tracemalloc"
   ]
  },
  {
   "cell_type": "code",
   "execution_count": 2,
   "metadata": {},
   "outputs": [],
   "source": [
    "# Create sample dataframes for testing\n",
    "\n",
    "\n",
    "# Function to generate random strings\n",
    "def random_string(length=5):\n",
    "    return \"\".join(random.choices(string.ascii_lowercase, k=length))\n",
    "\n",
    "\n",
    "# Create first dataset (data_tensor_1) with 1000 rows\n",
    "data_tensor_1 = pd.DataFrame(\n",
    "    {\n",
    "        \"A\": np.random.randint(1, 100, 2000),  # Random integers between 1 and 100\n",
    "        \"B\": np.random.uniform(1.0, 100.0, 2000),  # Random floats between 1.0 and 100.0\n",
    "        \"C\": [random_string() for _ in range(2000)],  # Random strings of length 5\n",
    "        \"D\": np.random.choice([True, False], 2000),  # Random booleans\n",
    "    }\n",
    ")\n",
    "\n",
    "# Create second dataset (data_tensor_2) with 1000 rows\n",
    "data_tensor_2 = pd.DataFrame(\n",
    "    {\n",
    "        \"A\": np.random.randint(1, 100, 2000),\n",
    "        \"B\": np.random.uniform(1.0, 100.0, 2000),\n",
    "        \"C\": [random_string() for _ in range(2000)],\n",
    "        \"D\": np.random.choice([True, False], 2000),\n",
    "    }\n",
    ")"
   ]
  },
  {
   "cell_type": "code",
   "execution_count": 3,
   "metadata": {},
   "outputs": [
    {
     "ename": "NameError",
     "evalue": "name 'validate_dataframes' is not defined",
     "output_type": "error",
     "traceback": [
      "\u001b[0;31m---------------------------------------------------------------------------\u001b[0m",
      "\u001b[0;31mNameError\u001b[0m                                 Traceback (most recent call last)",
      "Cell \u001b[0;32mIn[3], line 2\u001b[0m\n\u001b[1;32m      1\u001b[0m \u001b[38;5;66;03m# Step 1: Validate the DataFrames\u001b[39;00m\n\u001b[0;32m----> 2\u001b[0m \u001b[43mvalidate_dataframes\u001b[49m(data_tensor_1, data_tensor_2)\n",
      "\u001b[0;31mNameError\u001b[0m: name 'validate_dataframes' is not defined"
     ]
    }
   ],
   "source": [
    "# Step 1: Validate the DataFrames\n",
    "validate_dataframes(data_tensor_1, data_tensor_2)"
   ]
  },
  {
   "cell_type": "code",
   "execution_count": 41,
   "metadata": {},
   "outputs": [
    {
     "name": "stdout",
     "output_type": "stream",
     "text": [
      "Combined DataFrame:\n",
      "       A          B      C      D\n",
      "0     98  13.949184  fpekr   True\n",
      "1     80  16.734645  jmnbk  False\n",
      "2     54  25.818972  ipcvu  False\n",
      "3     17  55.114824  ytgwc  False\n",
      "4     91  51.298058  adslu  False\n",
      "...   ..        ...    ...    ...\n",
      "3995  34  38.029495  yxrxl   True\n",
      "3996  26  11.738725  qxavw   True\n",
      "3997  96  70.566756  fbwsb   True\n",
      "3998   6  32.212114  ouplw   True\n",
      "3999  86  18.534082  kwjaj  False\n",
      "\n",
      "[4000 rows x 4 columns]\n",
      "\n",
      "\n",
      "Sparse Provenance Matrix:\n",
      " tensor([[1, 0],\n",
      "        [1, 0],\n",
      "        [1, 0],\n",
      "        ...,\n",
      "        [0, 1],\n",
      "        [0, 1],\n",
      "        [0, 1]], dtype=torch.int32)\n",
      "Time elapsed for appending: 0.000000 seconds\n"
     ]
    }
   ],
   "source": [
    "# Start memory tracking\n",
    "tracemalloc.start()\n",
    "\n",
    "# Start time tracking\n",
    "start_time = time.time()\n",
    "\n",
    "# Call the function\n",
    "combined_df, provenance = sparse_tensor_prov(data_tensor_1, data_tensor_2)\n",
    "\n",
    "# Track elapsed time\n",
    "elapsed_time = time.time() - start_time\n",
    "\n",
    "# Track peak memory usage\n",
    "current, peak = tracemalloc.get_traced_memory()\n",
    "tracemalloc.stop()\n",
    "\n",
    "# Convert memory usage to MB\n",
    "peak_memory_usage = peak / (1024 * 1024)\n",
    "\n",
    "# Print results\n",
    "print(f\"Combined DataFrame:\\n{combined_df}\\n\")\n",
    "print(f\"Provenance Matrix:\\n{provenance}\\n\")\n",
    "print(f\"Time elapsed: {elapsed_time:.6f} seconds\")\n",
    "print(f\"Peak memory usage: {peak_memory_usage:.2f} MB\")"
   ]
  },
  {
   "cell_type": "code",
   "execution_count": 42,
   "metadata": {},
   "outputs": [
    {
     "name": "stdout",
     "output_type": "stream",
     "text": [
      "\n",
      "Sparse Provenance Matrix:\n",
      " tensor([[1, 0],\n",
      "        [1, 0],\n",
      "        [1, 0],\n",
      "        ...,\n",
      "        [0, 1],\n",
      "        [0, 1],\n",
      "        [0, 1]], dtype=torch.int32)\n"
     ]
    }
   ],
   "source": [
    "# Step 3: Test the `provenance_matrix_sparse` method\n",
    "provenance_sparse = provenance_matrix_sparse(data_tensor_1, data_tensor_2, combined_df)\n",
    "print(\"\\nSparse Provenance Matrix:\\n\", provenance_sparse)"
   ]
  },
  {
   "cell_type": "code",
   "execution_count": 44,
   "metadata": {},
   "outputs": [
    {
     "name": "stdout",
     "output_type": "stream",
     "text": [
      "\n",
      "Combined DataFrame with Source Identifiers:\n",
      "        A          B      C      D source_id\n",
      "0     98  13.949184  fpekr   True        D¹\n",
      "1     80  16.734645  jmnbk  False        D¹\n",
      "2     54  25.818972  ipcvu  False        D¹\n",
      "3     17  55.114824  ytgwc  False        D¹\n",
      "4     91  51.298058  adslu  False        D¹\n",
      "...   ..        ...    ...    ...       ...\n",
      "3995  34  38.029495  yxrxl   True        D²\n",
      "3996  26  11.738725  qxavw   True        D²\n",
      "3997  96  70.566756  fbwsb   True        D²\n",
      "3998   6  32.212114  ouplw   True        D²\n",
      "3999  86  18.534082  kwjaj  False        D²\n",
      "\n",
      "[4000 rows x 5 columns]\n",
      "Time elapsed for appending with source identifiers: 0.002541 seconds\n",
      "Peak memory usage: 0.25 MB\n"
     ]
    }
   ],
   "source": [
    "tracemalloc.start()\n",
    "start_time = time.time()\n",
    "\n",
    "\n",
    "data_tensor_1_with_source, data_tensor_2_with_source = add_source_identifiers(\n",
    "    data_tensor_1, data_tensor_2\n",
    ")\n",
    "combined_with_source, elapsed_time_source = append_with_provenance(\n",
    "    data_tensor_1_with_source, data_tensor_2_with_source\n",
    ")\n",
    "\n",
    "elapsed_time = time.time() - start_time\n",
    "current, peak = tracemalloc.get_traced_memory()\n",
    "tracemalloc.stop()\n",
    "\n",
    "\n",
    "peak_memory_usage = peak / (1024 * 1024)\n",
    "\n",
    "\n",
    "print(\"\\nCombined DataFrame with Source Identifiers:\\n\", combined_with_source)\n",
    "print(f\"Time elapsed for appending with source identifiers: {elapsed_time:.6f} seconds\")\n",
    "print(f\"Peak memory usage: {peak_memory_usage:.2f} MB\")"
   ]
  },
  {
   "cell_type": "code",
   "execution_count": null,
   "metadata": {},
   "outputs": [],
   "source": []
  },
  {
   "cell_type": "code",
   "execution_count": null,
   "metadata": {},
   "outputs": [],
   "source": []
  },
  {
   "cell_type": "code",
   "execution_count": null,
   "metadata": {},
   "outputs": [],
   "source": []
  }
 ],
 "metadata": {
  "kernelspec": {
   "display_name": "tensorprov",
   "language": "python",
   "name": "python3"
  },
  "language_info": {
   "codemirror_mode": {
    "name": "ipython",
    "version": 3
   },
   "file_extension": ".py",
   "mimetype": "text/x-python",
   "name": "python",
   "nbconvert_exporter": "python",
   "pygments_lexer": "ipython3",
   "version": "3.12.7"
  }
 },
 "nbformat": 4,
 "nbformat_minor": 2
}
