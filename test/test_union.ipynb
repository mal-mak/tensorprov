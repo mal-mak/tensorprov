{
 "cells": [
  {
   "cell_type": "code",
   "execution_count": 1,
   "metadata": {},
   "outputs": [],
   "source": [
    "import pandas as pd\n",
    "import torch\n",
    "import time\n",
    "from Union import sparse_tensor_prov,add_source_identifiers,append_with_provenance\n",
    "import string\n",
    "import random\n",
    "import numpy as np\n",
    "\n",
    "import tracemalloc"
   ]
  },
  {
   "cell_type": "code",
   "execution_count": 2,
   "metadata": {},
   "outputs": [],
   "source": [
    "# Create sample dataframes for testing\n",
    "\n",
    "# Function to generate random strings\n",
    "def random_string(length=5):\n",
    "    return ''.join(random.choices(string.ascii_lowercase, k=length))\n",
    "\n",
    "# Create first dataset (data_tensor_1) with 1000 rows\n",
    "data_tensor_1 = pd.DataFrame({\n",
    "    \"A\": np.random.randint(1, 100, 20000),  # Random integers between 1 and 100\n",
    "    \"B\": np.random.uniform(1.0, 100.0, 20000),  # Random floats between 1.0 and 100.0\n",
    "    \"C\": [random_string() for _ in range(20000)],  # Random strings of length 5\n",
    "    \"D\": np.random.choice([True, False], 20000)  # Random booleans\n",
    "})\n",
    "\n",
    "# Create second dataset (data_tensor_2) with 1000 rows\n",
    "data_tensor_2 = pd.DataFrame({\n",
    "    \"A\": np.random.randint(1, 100, 20000),\n",
    "    \"B\": np.random.uniform(1.0, 100.0, 20000),\n",
    "    \"C\": [random_string() for _ in range(20000)],\n",
    "    \"D\": np.random.choice([True, False], 20000)\n",
    "})\n",
    "\n"
   ]
  },
  {
   "cell_type": "code",
   "execution_count": 3,
   "metadata": {},
   "outputs": [
    {
     "name": "stdout",
     "output_type": "stream",
     "text": [
      "Combined DataFrame:\n",
      "        A          B      C      D\n",
      "0      79  77.701256  ozhcn  False\n",
      "1      14  30.456191  eucwu   True\n",
      "2      60   4.806022  obgtw   True\n",
      "3      33  59.721173  pzpom   True\n",
      "4      88  13.492393  cjeum  False\n",
      "...    ..        ...    ...    ...\n",
      "39995  93  65.893438  zezeh   True\n",
      "39996  65  94.424377  jxdvc  False\n",
      "39997  94  30.520991  uvdgb  False\n",
      "39998  97  74.907653  hcdaa  False\n",
      "39999  98  13.776979  kfeay   True\n",
      "\n",
      "[40000 rows x 4 columns]\n",
      "\n",
      "Provenance Matrix:\n",
      "tensor([[1, 0],\n",
      "        [1, 0],\n",
      "        [1, 0],\n",
      "        ...,\n",
      "        [0, 1],\n",
      "        [0, 1],\n",
      "        [0, 1]], dtype=torch.int32)\n",
      "\n",
      "Time elapsed: 0.025834 seconds\n",
      "Peak memory usage: 0.84 MB\n"
     ]
    }
   ],
   "source": [
    "# Start memory tracking\n",
    "tracemalloc.start()\n",
    "\n",
    "# Start time tracking\n",
    "start_time = time.time()\n",
    "\n",
    "# Call the function\n",
    "combined_df, provenance = sparse_tensor_prov(data_tensor_1, data_tensor_2)\n",
    "\n",
    "# Track elapsed time\n",
    "elapsed_time = time.time() - start_time\n",
    "\n",
    "# Track peak memory usage\n",
    "current, peak = tracemalloc.get_traced_memory()\n",
    "tracemalloc.stop()\n",
    "\n",
    "# Convert memory usage to MB\n",
    "peak_memory_usage = peak / (1024 * 1024)\n",
    "\n",
    "# Print results\n",
    "print(f\"Combined DataFrame:\\n{combined_df}\\n\")\n",
    "print(f\"Provenance Matrix:\\n{provenance}\\n\")\n",
    "print(f\"Time elapsed: {elapsed_time:.6f} seconds\")\n",
    "print(f\"Peak memory usage: {peak_memory_usage:.2f} MB\")\n",
    "\n",
    "\n"
   ]
  },
  {
   "cell_type": "code",
   "execution_count": 4,
   "metadata": {},
   "outputs": [
    {
     "name": "stdout",
     "output_type": "stream",
     "text": [
      "\n",
      "Combined DataFrame with Source Identifiers:\n",
      "         A          B      C      D source_id\n",
      "0      79  77.701256  ozhcn  False        D¹\n",
      "1      14  30.456191  eucwu   True        D¹\n",
      "2      60   4.806022  obgtw   True        D¹\n",
      "3      33  59.721173  pzpom   True        D¹\n",
      "4      88  13.492393  cjeum  False        D¹\n",
      "...    ..        ...    ...    ...       ...\n",
      "39995  93  65.893438  zezeh   True        D²\n",
      "39996  65  94.424377  jxdvc  False        D²\n",
      "39997  94  30.520991  uvdgb  False        D²\n",
      "39998  97  74.907653  hcdaa  False        D²\n",
      "39999  98  13.776979  kfeay   True        D²\n",
      "\n",
      "[40000 rows x 5 columns]\n",
      "Time elapsed for appending with source identifiers: 0.006369 seconds\n",
      "Peak memory usage: 2.25 MB\n"
     ]
    }
   ],
   "source": [
    "tracemalloc.start()  \n",
    "start_time = time.time()  \n",
    "\n",
    "\n",
    "data_tensor_1_with_source, data_tensor_2_with_source = add_source_identifiers(data_tensor_1, data_tensor_2)\n",
    "combined_with_source = append_with_provenance(data_tensor_1_with_source, data_tensor_2_with_source)\n",
    "\n",
    "elapsed_time = time.time() - start_time  \n",
    "current, peak = tracemalloc.get_traced_memory() \n",
    "tracemalloc.stop()  \n",
    "\n",
    "\n",
    "peak_memory_usage = peak / (1024 * 1024)\n",
    "\n",
    "\n",
    "print(\"\\nCombined DataFrame with Source Identifiers:\\n\", combined_with_source)\n",
    "print(f\"Time elapsed for appending with source identifiers: {elapsed_time:.6f} seconds\")\n",
    "print(f\"Peak memory usage: {peak_memory_usage:.2f} MB\")\n"
   ]
  },
  {
   "cell_type": "code",
   "execution_count": null,
   "metadata": {},
   "outputs": [],
   "source": []
  },
  {
   "cell_type": "code",
   "execution_count": null,
   "metadata": {},
   "outputs": [],
   "source": []
  },
  {
   "cell_type": "code",
   "execution_count": null,
   "metadata": {},
   "outputs": [],
   "source": []
  }
 ],
 "metadata": {
  "kernelspec": {
   "display_name": "Python 3",
   "language": "python",
   "name": "python3"
  },
  "language_info": {
   "codemirror_mode": {
    "name": "ipython",
    "version": 3
   },
   "file_extension": ".py",
   "mimetype": "text/x-python",
   "name": "python",
   "nbconvert_exporter": "python",
   "pygments_lexer": "ipython3",
   "version": "3.12.4"
  }
 },
 "nbformat": 4,
 "nbformat_minor": 2
}
