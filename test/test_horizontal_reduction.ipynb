{
 "cells": [
  {
   "cell_type": "code",
   "execution_count": 1,
   "metadata": {},
   "outputs": [],
   "source": [
    "import sys\n",
    "import os\n",
    "import pandas as pd\n",
    "import torch\n",
    "\n",
    "sys.path.append(os.path.abspath(os.path.join(\"..\")))\n",
    "\n",
    "from filter.horizontal_reduction import (\n",
    "    transform,\n",
    "    provenance_index_matching,\n",
    "    compare,\n",
    "    provenance_by_hashing,\n",
    ")"
   ]
  },
  {
   "cell_type": "code",
   "execution_count": 2,
   "metadata": {},
   "outputs": [
    {
     "data": {
      "text/html": [
       "<div>\n",
       "<style scoped>\n",
       "    .dataframe tbody tr th:only-of-type {\n",
       "        vertical-align: middle;\n",
       "    }\n",
       "\n",
       "    .dataframe tbody tr th {\n",
       "        vertical-align: top;\n",
       "    }\n",
       "\n",
       "    .dataframe thead th {\n",
       "        text-align: right;\n",
       "    }\n",
       "</style>\n",
       "<table border=\"1\" class=\"dataframe\">\n",
       "  <thead>\n",
       "    <tr style=\"text-align: right;\">\n",
       "      <th></th>\n",
       "      <th>col1</th>\n",
       "      <th>col2</th>\n",
       "    </tr>\n",
       "  </thead>\n",
       "  <tbody>\n",
       "    <tr>\n",
       "      <th>0</th>\n",
       "      <td>1</td>\n",
       "      <td>8</td>\n",
       "    </tr>\n",
       "    <tr>\n",
       "      <th>1</th>\n",
       "      <td>2</td>\n",
       "      <td>6</td>\n",
       "    </tr>\n",
       "    <tr>\n",
       "      <th>2</th>\n",
       "      <td>3</td>\n",
       "      <td>9</td>\n",
       "    </tr>\n",
       "    <tr>\n",
       "      <th>3</th>\n",
       "      <td>4</td>\n",
       "      <td>7</td>\n",
       "    </tr>\n",
       "    <tr>\n",
       "      <th>4</th>\n",
       "      <td>5</td>\n",
       "      <td>10</td>\n",
       "    </tr>\n",
       "  </tbody>\n",
       "</table>\n",
       "</div>"
      ],
      "text/plain": [
       "   col1  col2\n",
       "0     1     8\n",
       "1     2     6\n",
       "2     3     9\n",
       "3     4     7\n",
       "4     5    10"
      ]
     },
     "execution_count": 2,
     "metadata": {},
     "output_type": "execute_result"
    }
   ],
   "source": [
    "data = {\"col1\": [1, 2, 3, 4, 5], \"col2\": [8, 6, 9, 7, 10]}\n",
    "input_df = pd.DataFrame(data)\n",
    "input_df"
   ]
  },
  {
   "cell_type": "code",
   "execution_count": 3,
   "metadata": {},
   "outputs": [],
   "source": [
    "filter = \"(col1 > 2) & (col2 > 7)\""
   ]
  },
  {
   "cell_type": "code",
   "execution_count": 4,
   "metadata": {},
   "outputs": [
    {
     "data": {
      "text/html": [
       "<div>\n",
       "<style scoped>\n",
       "    .dataframe tbody tr th:only-of-type {\n",
       "        vertical-align: middle;\n",
       "    }\n",
       "\n",
       "    .dataframe tbody tr th {\n",
       "        vertical-align: top;\n",
       "    }\n",
       "\n",
       "    .dataframe thead th {\n",
       "        text-align: right;\n",
       "    }\n",
       "</style>\n",
       "<table border=\"1\" class=\"dataframe\">\n",
       "  <thead>\n",
       "    <tr style=\"text-align: right;\">\n",
       "      <th></th>\n",
       "      <th>col1</th>\n",
       "      <th>col2</th>\n",
       "    </tr>\n",
       "  </thead>\n",
       "  <tbody>\n",
       "    <tr>\n",
       "      <th>2</th>\n",
       "      <td>3</td>\n",
       "      <td>9</td>\n",
       "    </tr>\n",
       "    <tr>\n",
       "      <th>4</th>\n",
       "      <td>5</td>\n",
       "      <td>10</td>\n",
       "    </tr>\n",
       "  </tbody>\n",
       "</table>\n",
       "</div>"
      ],
      "text/plain": [
       "   col1  col2\n",
       "2     3     9\n",
       "4     5    10"
      ]
     },
     "execution_count": 4,
     "metadata": {},
     "output_type": "execute_result"
    }
   ],
   "source": [
    "output_df = transform(input_df, filter)\n",
    "output_df"
   ]
  },
  {
   "cell_type": "code",
   "execution_count": 5,
   "metadata": {},
   "outputs": [
    {
     "name": "stdout",
     "output_type": "stream",
     "text": [
      "tensor(indices=tensor([[2, 4],\n",
      "                       [0, 1]]),\n",
      "       values=tensor([1, 1]),\n",
      "       size=(5, 2), nnz=2, dtype=torch.int8, layout=torch.sparse_coo)\n"
     ]
    }
   ],
   "source": [
    "provenance_tensor = provenance_index_matching(input_df, output_df, sparse=True)\n",
    "\n",
    "print(provenance_tensor)"
   ]
  },
  {
   "cell_type": "code",
   "execution_count": 6,
   "metadata": {},
   "outputs": [
    {
     "name": "stdout",
     "output_type": "stream",
     "text": [
      "tensor([[0, 0],\n",
      "        [0, 0],\n",
      "        [1, 0],\n",
      "        [0, 0],\n",
      "        [0, 1]], dtype=torch.int8)\n"
     ]
    }
   ],
   "source": [
    "provenance_tensor = provenance_index_matching(input_df, output_df, sparse=False)\n",
    "\n",
    "print(provenance_tensor)"
   ]
  },
  {
   "cell_type": "code",
   "execution_count": 7,
   "metadata": {},
   "outputs": [
    {
     "data": {
      "text/html": [
       "<div>\n",
       "<style scoped>\n",
       "    .dataframe tbody tr th:only-of-type {\n",
       "        vertical-align: middle;\n",
       "    }\n",
       "\n",
       "    .dataframe tbody tr th {\n",
       "        vertical-align: top;\n",
       "    }\n",
       "\n",
       "    .dataframe thead th {\n",
       "        text-align: right;\n",
       "    }\n",
       "</style>\n",
       "<table border=\"1\" class=\"dataframe\">\n",
       "  <thead>\n",
       "    <tr style=\"text-align: right;\">\n",
       "      <th></th>\n",
       "      <th>col1</th>\n",
       "      <th>col2</th>\n",
       "    </tr>\n",
       "  </thead>\n",
       "  <tbody>\n",
       "    <tr>\n",
       "      <th>0</th>\n",
       "      <td>1</td>\n",
       "      <td>8</td>\n",
       "    </tr>\n",
       "    <tr>\n",
       "      <th>1</th>\n",
       "      <td>2</td>\n",
       "      <td>6</td>\n",
       "    </tr>\n",
       "    <tr>\n",
       "      <th>2</th>\n",
       "      <td>3</td>\n",
       "      <td>9</td>\n",
       "    </tr>\n",
       "    <tr>\n",
       "      <th>3</th>\n",
       "      <td>4</td>\n",
       "      <td>7</td>\n",
       "    </tr>\n",
       "    <tr>\n",
       "      <th>4</th>\n",
       "      <td>5</td>\n",
       "      <td>10</td>\n",
       "    </tr>\n",
       "  </tbody>\n",
       "</table>\n",
       "</div>"
      ],
      "text/plain": [
       "   col1  col2\n",
       "0     1     8\n",
       "1     2     6\n",
       "2     3     9\n",
       "3     4     7\n",
       "4     5    10"
      ]
     },
     "execution_count": 7,
     "metadata": {},
     "output_type": "execute_result"
    }
   ],
   "source": [
    "data = {\"col1\": [1, 2, 3, 4, 5], \"col2\": [8, 6, 9, 7, 10]}\n",
    "input_df = pd.DataFrame(data)\n",
    "input_df"
   ]
  },
  {
   "cell_type": "code",
   "execution_count": 8,
   "metadata": {},
   "outputs": [
    {
     "data": {
      "text/html": [
       "<div>\n",
       "<style scoped>\n",
       "    .dataframe tbody tr th:only-of-type {\n",
       "        vertical-align: middle;\n",
       "    }\n",
       "\n",
       "    .dataframe tbody tr th {\n",
       "        vertical-align: top;\n",
       "    }\n",
       "\n",
       "    .dataframe thead th {\n",
       "        text-align: right;\n",
       "    }\n",
       "</style>\n",
       "<table border=\"1\" class=\"dataframe\">\n",
       "  <thead>\n",
       "    <tr style=\"text-align: right;\">\n",
       "      <th></th>\n",
       "      <th>col1</th>\n",
       "      <th>col2</th>\n",
       "    </tr>\n",
       "  </thead>\n",
       "  <tbody>\n",
       "    <tr>\n",
       "      <th>2</th>\n",
       "      <td>3</td>\n",
       "      <td>9</td>\n",
       "    </tr>\n",
       "    <tr>\n",
       "      <th>4</th>\n",
       "      <td>5</td>\n",
       "      <td>10</td>\n",
       "    </tr>\n",
       "  </tbody>\n",
       "</table>\n",
       "</div>"
      ],
      "text/plain": [
       "   col1  col2\n",
       "2     3     9\n",
       "4     5    10"
      ]
     },
     "execution_count": 8,
     "metadata": {},
     "output_type": "execute_result"
    }
   ],
   "source": [
    "output_df = transform(input_df, filter)\n",
    "output_df"
   ]
  },
  {
   "cell_type": "code",
   "execution_count": 9,
   "metadata": {},
   "outputs": [
    {
     "name": "stdout",
     "output_type": "stream",
     "text": [
      "INDEX MATCHING\n",
      "\n",
      "Sparse Tensor Time: 0.000736s\n",
      "\n",
      "Provenance Sparse Tensor :\n",
      "tensor(indices=tensor([[2, 4],\n",
      "                       [0, 1]]),\n",
      "       values=tensor([1, 1]),\n",
      "       size=(5, 2), nnz=2, dtype=torch.int8, layout=torch.sparse_coo)\n",
      "\n",
      "Dense Tensor Time: 0.000541s\n",
      "\n",
      "Provenance dense Tensor :\n",
      "tensor([[0, 0],\n",
      "        [0, 0],\n",
      "        [1, 0],\n",
      "        [0, 0],\n",
      "        [0, 1]], dtype=torch.int8)\n",
      "\n",
      "Results Consistent: True\n",
      "\n",
      " -------------------- \n",
      "\n",
      "BY HASHING\n",
      "\n",
      "Sparse Tensor Time: 0.001248s\n",
      "\n",
      "Provenance Sparse Tensor :\n",
      "tensor(indices=tensor([[2, 4],\n",
      "                       [0, 1]]),\n",
      "       values=tensor([1, 1]),\n",
      "       size=(5, 2), nnz=2, dtype=torch.int8, layout=torch.sparse_coo)\n",
      "\n",
      "Dense Tensor Time: 0.000672s\n",
      "\n",
      "Provenance dense Tensor :\n",
      "tensor([[0, 0],\n",
      "        [0, 0],\n",
      "        [1, 0],\n",
      "        [0, 0],\n",
      "        [0, 1]], dtype=torch.int8)\n",
      "\n",
      "Results Consistent: True\n"
     ]
    }
   ],
   "source": [
    "compare(input_df, filter)"
   ]
  },
  {
   "cell_type": "code",
   "execution_count": 10,
   "metadata": {},
   "outputs": [
    {
     "name": "stdout",
     "output_type": "stream",
     "text": [
      "tensor(indices=tensor([[2, 4],\n",
      "                       [0, 1]]),\n",
      "       values=tensor([1, 1]),\n",
      "       size=(5, 2), nnz=2, dtype=torch.int8, layout=torch.sparse_coo)\n"
     ]
    }
   ],
   "source": [
    "print(provenance_by_hashing(input_df, output_df))"
   ]
  },
  {
   "cell_type": "code",
   "execution_count": 11,
   "metadata": {},
   "outputs": [
    {
     "name": "stdout",
     "output_type": "stream",
     "text": [
      "tensor([[0, 0],\n",
      "        [0, 0],\n",
      "        [1, 0],\n",
      "        [0, 0],\n",
      "        [0, 1]], dtype=torch.int8)\n"
     ]
    }
   ],
   "source": [
    "print(provenance_by_hashing(input_df, output_df, False))"
   ]
  },
  {
   "cell_type": "code",
   "execution_count": 12,
   "metadata": {},
   "outputs": [
    {
     "name": "stdout",
     "output_type": "stream",
     "text": [
      "INDEX MATCHING\n",
      "\n",
      "Sparse Tensor Time: 0.200214s\n",
      "\n",
      "Provenance Sparse Tensor :\n",
      "tensor(indices=tensor([[  7,  16,  30,  57,  91, 117, 120, 140, 146, 167, 184,\n",
      "                        213, 216, 246, 251, 271, 300, 307, 325, 346, 374, 401,\n",
      "                        430, 438, 449, 452, 469],\n",
      "                       [  0,   1,   2,   3,   4,   5,   6,   7,   8,   9,  10,\n",
      "                         11,  12,  13,  14,  15,  16,  17,  18,  19,  20,  21,\n",
      "                         22,  23,  24,  25,  26]]),\n",
      "       values=tensor([1, 1, 1, 1, 1, 1, 1, 1, 1, 1, 1, 1, 1, 1, 1, 1, 1, 1, 1,\n",
      "                      1, 1, 1, 1, 1, 1, 1, 1]),\n",
      "       size=(500, 27), nnz=27, dtype=torch.int8, layout=torch.sparse_coo)\n",
      "\n",
      "Dense Tensor Time: 0.162740s\n",
      "\n",
      "Provenance dense Tensor :\n",
      "tensor([[0, 0, 0,  ..., 0, 0, 0],\n",
      "        [0, 0, 0,  ..., 0, 0, 0],\n",
      "        [0, 0, 0,  ..., 0, 0, 0],\n",
      "        ...,\n",
      "        [0, 0, 0,  ..., 0, 0, 0],\n",
      "        [0, 0, 0,  ..., 0, 0, 0],\n",
      "        [0, 0, 0,  ..., 0, 0, 0]], dtype=torch.int8)\n",
      "\n",
      "Results Consistent: True\n",
      "\n",
      " -------------------- \n",
      "\n",
      "BY HASHING\n",
      "\n",
      "Sparse Tensor Time: 0.236490s\n",
      "\n",
      "Provenance Sparse Tensor :\n",
      "tensor(indices=tensor([[  7,  16,  30,  57,  91, 117, 120, 140, 146, 167, 184,\n",
      "                        213, 216, 246, 251, 271, 300, 307, 325, 346, 374, 401,\n",
      "                        430, 438, 449, 452, 469],\n",
      "                       [  0,   1,   2,   3,   4,   5,   6,   7,   8,   9,  10,\n",
      "                         11,  12,  13,  14,  15,  16,  17,  18,  19,  20,  21,\n",
      "                         22,  23,  24,  25,  26]]),\n",
      "       values=tensor([1, 1, 1, 1, 1, 1, 1, 1, 1, 1, 1, 1, 1, 1, 1, 1, 1, 1, 1,\n",
      "                      1, 1, 1, 1, 1, 1, 1, 1]),\n",
      "       size=(500, 27), nnz=27, dtype=torch.int8, layout=torch.sparse_coo)\n",
      "\n",
      "Dense Tensor Time: 0.230384s\n",
      "\n",
      "Provenance dense Tensor :\n",
      "tensor([[0, 0, 0,  ..., 0, 0, 0],\n",
      "        [0, 0, 0,  ..., 0, 0, 0],\n",
      "        [0, 0, 0,  ..., 0, 0, 0],\n",
      "        ...,\n",
      "        [0, 0, 0,  ..., 0, 0, 0],\n",
      "        [0, 0, 0,  ..., 0, 0, 0],\n",
      "        [0, 0, 0,  ..., 0, 0, 0]], dtype=torch.int8)\n",
      "\n",
      "Results Consistent: True\n"
     ]
    }
   ],
   "source": [
    "input_df = torch.rand(500, 500)\n",
    "compare(input_df, filter=\"col1 > 0.95\")"
   ]
  },
  {
   "cell_type": "code",
   "execution_count": 13,
   "metadata": {},
   "outputs": [
    {
     "data": {
      "text/plain": [
       "tensor([[0, 0],\n",
       "        [1, 0],\n",
       "        [0, 1]], dtype=torch.int8)"
      ]
     },
     "execution_count": 13,
     "metadata": {},
     "output_type": "execute_result"
    }
   ],
   "source": [
    "input_df = {\"col1\": [1, 2, 3], \"col2\": [4, 5, 6]}\n",
    "output_df = {\"col1\": [2, 3], \"col2\": [5, 6]}\n",
    "\n",
    "provenance_index_matching(input_df, output_df, False)"
   ]
  },
  {
   "cell_type": "code",
   "execution_count": null,
   "metadata": {},
   "outputs": [],
   "source": []
  }
 ],
 "metadata": {
  "kernelspec": {
   "display_name": "tensorprov",
   "language": "python",
   "name": "python3"
  },
  "language_info": {
   "codemirror_mode": {
    "name": "ipython",
    "version": 3
   },
   "file_extension": ".py",
   "mimetype": "text/x-python",
   "name": "python",
   "nbconvert_exporter": "python",
   "pygments_lexer": "ipython3",
   "version": "3.12.7"
  }
 },
 "nbformat": 4,
 "nbformat_minor": 2
}
