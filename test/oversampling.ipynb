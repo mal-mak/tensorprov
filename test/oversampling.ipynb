{
 "cells": [
  {
   "cell_type": "code",
   "execution_count": 1,
   "metadata": {},
   "outputs": [],
   "source": [
    "import sys\n",
    "import os\n",
    "import pandas as pd\n",
    "import torch\n",
    "\n",
    "sys.path.append(os.path.abspath(os.path.join(\"..\")))\n",
    "\n",
    "from oversampling  import oversample, determine_provenance_dense,determine_provenance_sparse,compare_methods"
   ]
  },
  {
   "cell_type": "code",
   "execution_count": 2,
   "metadata": {},
   "outputs": [
    {
     "name": "stdout",
     "output_type": "stream",
     "text": [
      "\n",
      "Original Data:\n",
      " tensor([[1, 2],\n",
      "        [3, 4]])\n"
     ]
    }
   ],
   "source": [
    "data = torch.tensor([[1, 2], [3, 4]])\n",
    "\n",
    "print(\"\\nOriginal Data:\\n\", data)\n"
   ]
  },
  {
   "cell_type": "code",
   "execution_count": 3,
   "metadata": {},
   "outputs": [
    {
     "name": "stdout",
     "output_type": "stream",
     "text": [
      "\n",
      "Testing Horizontal Oversampling...\n",
      "Oversampled Data:\n",
      " tensor([[1, 2, 1, 2],\n",
      "        [3, 4, 3, 4]])\n"
     ]
    }
   ],
   "source": [
    "# Test horizontal oversampling\n",
    "print(\"\\nTesting Horizontal Oversampling...\")\n",
    "augmented_horizontal = oversample(data, method='horizontal', factor=2)\n",
    "print(\"Oversampled Data:\\n\", augmented_horizontal)\n",
    "\n",
    "expected_horizontal = torch.tensor([[1, 2, 1, 2], [3, 4, 3, 4]])\n",
    "assert torch.equal(augmented_horizontal, expected_horizontal), \"Horizontal oversampling failed!\"\n"
   ]
  },
  {
   "cell_type": "code",
   "execution_count": 4,
   "metadata": {},
   "outputs": [
    {
     "name": "stdout",
     "output_type": "stream",
     "text": [
      "\n",
      "Testing Vertical Oversampling...\n",
      "Oversampled Data:\n",
      " tensor([[1, 2],\n",
      "        [3, 4],\n",
      "        [1, 2],\n",
      "        [3, 4]])\n"
     ]
    }
   ],
   "source": [
    "# Test vertical oversampling\n",
    "print(\"\\nTesting Vertical Oversampling...\")\n",
    "augmented_vertical = oversample(data, method='vertical', factor=2)\n",
    "print(\"Oversampled Data:\\n\", augmented_vertical)\n",
    "\n",
    "expected_vertical = torch.tensor([[1, 2], [3, 4], [1, 2], [3, 4]])\n",
    "assert torch.equal(augmented_vertical, expected_vertical), \"Vertical oversampling failed!\""
   ]
  },
  {
   "cell_type": "code",
   "execution_count": 5,
   "metadata": {},
   "outputs": [
    {
     "name": "stdout",
     "output_type": "stream",
     "text": [
      "\n",
      "Testing Sparse Provenance...\n",
      "Sparse Provenance (Horizontal):\n",
      " tensor([[1., 0., 1., 0.],\n",
      "        [0., 1., 0., 1.]])\n",
      "Sparse Provenance (Vertical):\n",
      " tensor([[1., 0.],\n",
      "        [0., 1.],\n",
      "        [1., 0.],\n",
      "        [0., 1.]])\n"
     ]
    }
   ],
   "source": [
    "# Test sparse provenance determination\n",
    "print(\"\\nTesting Sparse Provenance...\")\n",
    "sparse_provenance_h = determine_provenance_sparse(data, augmented_horizontal, method='horizontal')\n",
    "sparse_provenance_v = determine_provenance_sparse(data, augmented_vertical, method='vertical')\n",
    "print(\"Sparse Provenance (Horizontal):\\n\", sparse_provenance_h.to_dense())\n",
    "print(\"Sparse Provenance (Vertical):\\n\", sparse_provenance_v.to_dense())\n"
   ]
  },
  {
   "cell_type": "code",
   "execution_count": 6,
   "metadata": {},
   "outputs": [
    {
     "name": "stdout",
     "output_type": "stream",
     "text": [
      "\n",
      "Testing Dense Provenance...\n",
      "Dense Provenance (Horizontal):\n",
      " tensor([[1., 0., 1., 0.],\n",
      "        [0., 1., 0., 1.]])\n",
      "Dense Provenance (Vertical):\n",
      " tensor([[1., 0.],\n",
      "        [0., 1.],\n",
      "        [1., 0.],\n",
      "        [0., 1.]])\n"
     ]
    }
   ],
   "source": [
    "# Test dense provenance determination\n",
    "print(\"\\nTesting Dense Provenance...\")\n",
    "dense_provenance_h = determine_provenance_dense(data, augmented_horizontal, method='horizontal')\n",
    "dense_provenance_v = determine_provenance_dense(data, augmented_vertical, method='vertical')\n",
    "print(\"Dense Provenance (Horizontal):\\n\", dense_provenance_h)\n",
    "print(\"Dense Provenance (Vertical):\\n\", dense_provenance_v)\n"
   ]
  },
  {
   "cell_type": "code",
   "execution_count": 7,
   "metadata": {},
   "outputs": [
    {
     "name": "stdout",
     "output_type": "stream",
     "text": [
      "\n",
      "All tests passed successfully!\n"
     ]
    }
   ],
   "source": [
    "# Check consistency between sparse and dense methods\n",
    "assert torch.equal(sparse_provenance_h.to_dense(), dense_provenance_h), \"Horizontal provenance mismatch!\"\n",
    "assert torch.equal(sparse_provenance_v.to_dense(), dense_provenance_v), \"Vertical provenance mismatch!\"\n",
    "\n",
    "print(\"\\nAll tests passed successfully!\")\n"
   ]
  },
  {
   "cell_type": "code",
   "execution_count": 8,
   "metadata": {},
   "outputs": [
    {
     "name": "stdout",
     "output_type": "stream",
     "text": [
      "\n",
      "Evaluating horizontal oversampling with factor 1000:\n",
      "Sparse Tensor Time: 0.003003s\n"
     ]
    },
    {
     "name": "stdout",
     "output_type": "stream",
     "text": [
      "Provenance Sparse Tensor : tensor(indices=tensor([[     0,      1,      2,  ...,    497,    498,    499],\n",
      "                       [     0,      1,      2,  ..., 499997, 499998, 499999]]),\n",
      "       values=tensor([1., 1., 1.,  ..., 1., 1., 1.]),\n",
      "       size=(500, 500000), nnz=500000, layout=torch.sparse_coo)\n",
      "Provenance dense Tensor : tensor([[1., 0., 0.,  ..., 0., 0., 0.],\n",
      "        [0., 1., 0.,  ..., 0., 0., 0.],\n",
      "        [0., 0., 1.,  ..., 0., 0., 0.],\n",
      "        ...,\n",
      "        [0., 0., 0.,  ..., 1., 0., 0.],\n",
      "        [0., 0., 0.,  ..., 0., 1., 0.],\n",
      "        [0., 0., 0.,  ..., 0., 0., 1.]])\n",
      "Dense Tensor Time: 4.216685s\n",
      "Results Consistent: True\n",
      "\n",
      "Evaluating vertical oversampling with factor 1000:\n",
      "Sparse Tensor Time: 0.154997s\n",
      "Provenance Sparse Tensor : tensor(indices=tensor([[     0,      1,      2,  ..., 499997, 499998, 499999],\n",
      "                       [     0,      1,      2,  ...,    497,    498,    499]]),\n",
      "       values=tensor([1., 1., 1.,  ..., 1., 1., 1.]),\n",
      "       size=(500000, 500), nnz=500000, layout=torch.sparse_coo)\n",
      "Provenance dense Tensor : tensor([[1., 0., 0.,  ..., 0., 0., 0.],\n",
      "        [0., 1., 0.,  ..., 0., 0., 0.],\n",
      "        [0., 0., 1.,  ..., 0., 0., 0.],\n",
      "        ...,\n",
      "        [0., 0., 0.,  ..., 1., 0., 0.],\n",
      "        [0., 0., 0.,  ..., 0., 1., 0.],\n",
      "        [0., 0., 0.,  ..., 0., 0., 1.]])\n",
      "Dense Tensor Time: 3.854590s\n",
      "Results Consistent: True\n"
     ]
    }
   ],
   "source": [
    "# Performance evaluation on larger data\n",
    "large_data = torch.rand(500, 500)\n",
    "compare_methods(large_data, method='horizontal', factor=1000)\n",
    "compare_methods(large_data, method='vertical', factor=1000)"
   ]
  }
 ],
 "metadata": {
  "kernelspec": {
   "display_name": "Python (genai)",
   "language": "python",
   "name": "genai"
  },
  "language_info": {
   "codemirror_mode": {
    "name": "ipython",
    "version": 3
   },
   "file_extension": ".py",
   "mimetype": "text/x-python",
   "name": "python",
   "nbconvert_exporter": "python",
   "pygments_lexer": "ipython3",
   "version": "3.11.9"
  }
 },
 "nbformat": 4,
 "nbformat_minor": 2
}
