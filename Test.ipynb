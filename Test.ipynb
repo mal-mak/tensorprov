{
 "cells": [
  {
   "cell_type": "code",
   "execution_count": null,
   "metadata": {
    "vscode": {
     "languageId": "plaintext"
    }
   },
   "outputs": [],
   "source": [
    "import pandas as pd\n",
    "import torch\n",
    "import time\n",
    "\n",
    "# Assuming you have already defined your functions from the previous code\n",
    "\n",
    "# Create sample dataframes for testing\n",
    "data_tensor_1 = pd.DataFrame({\"A\": [1, 2], \"B\": [3, 4]})\n",
    "data_tensor_2 = pd.DataFrame({\"A\": [5, 6], \"B\": [7, 8]})\n",
    "\n",
    "# Step 1: Validate the DataFrames\n",
    "validate_dataframes(data_tensor_1, data_tensor_2)\n",
    "\n",
    "# Step 2: Test the `append_dataframes` function\n",
    "combined_df, elapsed_time = append_dataframes(data_tensor_1, data_tensor_2)\n",
    "print(f\"Combined DataFrame:\\n{combined_df}\\n\")\n",
    "print(f\"Time elapsed for appending: {elapsed_time:.6f} seconds\")\n",
    "\n",
    "# Step 3: Test the `provenance_matrix_sparse` method\n",
    "provenance_sparse = provenance_matrix_sparse(data_tensor_1, data_tensor_2, combined_df)\n",
    "print(\"\\nSparse Provenance Matrix:\\n\", provenance_sparse)\n",
    "\n",
    "# Step 4: Test the `add_source_identifiers` method\n",
    "data_tensor_1_with_source, data_tensor_2_with_source = add_source_identifiers(data_tensor_1, data_tensor_2)\n",
    "combined_with_source, elapsed_time_source = append_with_provenance(data_tensor_1_with_source, data_tensor_2_with_source)\n",
    "\n",
    "print(\"\\nCombined DataFrame with Source Identifiers:\\n\", combined_with_source)\n",
    "print(f\"Time elapsed for appending with source identifiers: {elapsed_time_source:.6f} seconds\")\n",
    "\n",
    "# Step 5: Validate the difference between both methods\n",
    "print(\"\\nComparing the provenance information between both methods:\")\n",
    "print(\"Source identifiers in the combined dataframe with source labels:\")\n",
    "print(combined_with_source[\"source_id\"].value_counts())\n",
    "\n",
    "# Check the provenance matrix (sparse tensor) shape and values\n",
    "print(\"\\nProvenance matrix shape (sparse tensor):\", provenance_sparse.shape)\n",
    "print(\"Non-zero elements in sparse tensor:\", provenance_sparse._nnz())  # Number of non-zero elements\n",
    "\n"
   ]
  }
 ],
 "metadata": {
  "language_info": {
   "name": "python"
  }
 },
 "nbformat": 4,
 "nbformat_minor": 2
}
