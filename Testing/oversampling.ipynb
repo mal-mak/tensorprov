{
 "cells": [
  {
   "cell_type": "code",
   "execution_count": 5,
   "metadata": {},
   "outputs": [],
   "source": [
    "import sys\n",
    "import os\n",
    "import pandas as pd\n",
    "import torch\n",
    "\n",
    "sys.path.append(os.path.abspath(os.path.join(\"..\")))\n",
    "\n",
    "from oversampling  import oversampling, tensrov"
   ]
  },
  {
   "cell_type": "code",
   "execution_count": 6,
   "metadata": {},
   "outputs": [],
   "source": [
    "# Define the original dataset as a pandas DataFrame\n",
    "data = pd.DataFrame({\n",
    "    'A': [1, 4, 7],\n",
    "    'B': [2, 5, 8],\n",
    "    'C': [3, 6, 9]\n",
    "})\n",
    "\n",
    "# Convert DataFrame to PyTorch tensor\n",
    "original_data = torch.tensor(data.values, dtype=torch.float32)"
   ]
  },
  {
   "cell_type": "code",
   "execution_count": null,
   "metadata": {},
   "outputs": [
    {
     "name": "stdout",
     "output_type": "stream",
     "text": [
      "Horizontal Oversampling Result:\n",
      "     A    B    C  A_dup  B_dup  C_dup\n",
      "0  1.0  2.0  3.0    1.0    2.0    3.0\n",
      "1  4.0  5.0  6.0    4.0    5.0    6.0\n",
      "2  7.0  8.0  9.0    7.0    8.0    9.0\n"
     ]
    }
   ],
   "source": [
    "# horizontal oversampling with a factor of 2\n",
    "horizontal_augmented_data = oversampling(original_data, method='horizontal', factor=2)\n",
    "\n",
    "horizontal_df = pd.DataFrame(horizontal_augmented_data.numpy(), columns=['A', 'B', 'C', 'A_dup', 'B_dup', 'C_dup'])\n",
    "print(\"Horizontal Oversampling Result:\")\n",
    "print(horizontal_df)    "
   ]
  },
  {
   "cell_type": "code",
   "execution_count": 8,
   "metadata": {},
   "outputs": [
    {
     "name": "stdout",
     "output_type": "stream",
     "text": [
      "\n",
      "Vertical Oversampling Result:\n",
      "     A    B    C\n",
      "0  1.0  2.0  3.0\n",
      "1  4.0  5.0  6.0\n",
      "2  7.0  8.0  9.0\n",
      "3  1.0  2.0  3.0\n",
      "4  4.0  5.0  6.0\n",
      "5  7.0  8.0  9.0\n",
      "6  1.0  2.0  3.0\n",
      "7  4.0  5.0  6.0\n",
      "8  7.0  8.0  9.0\n"
     ]
    }
   ],
   "source": [
    "# vertical oversampling with a factor of 3\n",
    "vertical_augmented_data = oversampling(original_data, method='vertical', factor=3)\n",
    "\n",
    "vertical_df = pd.DataFrame(vertical_augmented_data.numpy(), columns=['A', 'B', 'C'])\n",
    "print(\"\\nVertical Oversampling Result:\")\n",
    "print(vertical_df)"
   ]
  },
  {
   "cell_type": "code",
   "execution_count": null,
   "metadata": {},
   "outputs": [
    {
     "name": "stdout",
     "output_type": "stream",
     "text": [
      "\n",
      "Provenance Tensor (Horizontal):\n",
      "tensor(indices=tensor([[0, 1, 2, 3, 4, 5],\n",
      "                       [0, 1, 2, 0, 1, 2]]),\n",
      "       values=tensor([1., 1., 1., 1., 1., 1.]),\n",
      "       size=(3, 6), nnz=6, layout=torch.sparse_coo)\n"
     ]
    }
   ],
   "source": [
    "# Provenance tensor for horizontal oversampling\n",
    "horizontal_provenance = tensrov(original_data, horizontal_augmented_data)\n",
    "print(\"\\nProvenance Tensor (Horizontal):\")\n",
    "print(horizontal_provenance)"
   ]
  },
  {
   "cell_type": "code",
   "execution_count": null,
   "metadata": {},
   "outputs": [
    {
     "name": "stdout",
     "output_type": "stream",
     "text": [
      "\n",
      "Provenance Tensor (Vertical):\n",
      "tensor(indices=tensor([[0, 1, 2, 0, 1, 2, 0, 1, 2],\n",
      "                       [0, 1, 2, 3, 4, 5, 6, 7, 8]]),\n",
      "       values=tensor([1., 1., 1., 1., 1., 1., 1., 1., 1.]),\n",
      "       size=(3, 9), nnz=9, layout=torch.sparse_coo)\n"
     ]
    }
   ],
   "source": [
    "# Provenance tensor for vertical oversampling\n",
    "vertical_provenance = tensrov(original_data, vertical_augmented_data)\n",
    "print(\"\\nProvenance Tensor (Vertical):\")\n",
    "print(vertical_provenance)"
   ]
  }
 ],
 "metadata": {
  "kernelspec": {
   "display_name": "Python (genai)",
   "language": "python",
   "name": "genai"
  },
  "language_info": {
   "codemirror_mode": {
    "name": "ipython",
    "version": 3
   },
   "file_extension": ".py",
   "mimetype": "text/x-python",
   "name": "python",
   "nbconvert_exporter": "python",
   "pygments_lexer": "ipython3",
   "version": "3.11.9"
  }
 },
 "nbformat": 4,
 "nbformat_minor": 2
}
