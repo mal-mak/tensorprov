{
 "cells": [
  {
   "cell_type": "code",
   "execution_count": 12,
   "metadata": {},
   "outputs": [],
   "source": [
    "import sys\n",
    "import os\n",
    "import pandas as pd\n",
    "import torch\n",
    "\n",
    "sys.path.append(os.path.abspath(os.path.join(\"..\")))\n",
    "\n",
    "from oversampling  import oversample, determine_provenance_dense,determine_provenance_sparse,compare_methods"
   ]
  },
  {
   "cell_type": "code",
   "execution_count": 13,
   "metadata": {},
   "outputs": [],
   "source": [
    "original_data = torch.rand(500, 500)"
   ]
  },
  {
   "cell_type": "code",
   "execution_count": 14,
   "metadata": {},
   "outputs": [
    {
     "name": "stdout",
     "output_type": "stream",
     "text": [
      "\n",
      "Evaluating vertical oversampling with factor 2:\n",
      "Sparse Tensor Time: 0.001000s\n",
      "Dense Tensor Time: 0.007996s\n",
      "Results Consistent: True\n",
      "Performance: Sparse = 0.001000s, Dense = 0.007996s\n"
     ]
    }
   ],
   "source": [
    "compare_methods(original_data, method='vertical', factor=2)"
   ]
  },
  {
   "cell_type": "code",
   "execution_count": 15,
   "metadata": {},
   "outputs": [
    {
     "name": "stdout",
     "output_type": "stream",
     "text": [
      "\n",
      "Evaluating horizontal oversampling with factor 2:\n",
      "Sparse Tensor Time: 0.000000s\n",
      "Dense Tensor Time: 0.009503s\n",
      "Results Consistent: True\n",
      "Performance: Sparse = 0.000000s, Dense = 0.009503s\n"
     ]
    }
   ],
   "source": [
    "compare_methods(original_data, method='horizontal', factor=2)"
   ]
  }
 ],
 "metadata": {
  "kernelspec": {
   "display_name": "Python (genai)",
   "language": "python",
   "name": "genai"
  },
  "language_info": {
   "codemirror_mode": {
    "name": "ipython",
    "version": 3
   },
   "file_extension": ".py",
   "mimetype": "text/x-python",
   "name": "python",
   "nbconvert_exporter": "python",
   "pygments_lexer": "ipython3",
   "version": "3.11.9"
  }
 },
 "nbformat": 4,
 "nbformat_minor": 2
}
